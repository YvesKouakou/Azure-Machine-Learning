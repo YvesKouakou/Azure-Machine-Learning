{
  "cells": [
    {
      "cell_type": "markdown",
      "source": [
        "# Yves KOUAKOU \r\n",
        "\r\n",
        "\r\n",
        "\r\n",
        "# **Microsoft Azure Machine Learning et Power BI : Modèle prédictif **\r\n",
        "\r\n",
        "Nous utilisons le jeu de données Diabète disponible dans Azure Open Datasets.\r\n",
        "\r\n",
        "##### **Importer les données**\r\n",
        "##### "
      ],
      "metadata": {
        "nteract": {
          "transient": {
            "deleting": false
          }
        }
      }
    },
    {
      "cell_type": "code",
      "source": [
        "import numpy as np\r\n",
        "\r\n",
        "from azureml.opendatasets import Diabetes\r\n",
        "\r\n",
        "diabetes = Diabetes.get_tabular_dataset()\r\n",
        "X = diabetes.drop_columns(\"Y\")\r\n",
        "y = diabetes.keep_columns(\"Y\")\r\n",
        "X_df = X.to_pandas_dataframe()\r\n",
        "y_df = y.to_pandas_dataframe()\r\n",
        "X_df"
      ],
      "outputs": [
        {
          "output_type": "execute_result",
          "execution_count": 21,
          "data": {
            "text/plain": "     AGE  SEX   BMI      BP   S1     S2    S3    S4      S5   S6\n0     59    2  32.1  101.00  157   93.2  38.0  4.00  4.8598   87\n1     48    1  21.6   87.00  183  103.2  70.0  3.00  3.8918   69\n2     72    2  30.5   93.00  156   93.6  41.0  4.00  4.6728   85\n3     24    1  25.3   84.00  198  131.4  40.0  5.00  4.8903   89\n4     50    1  23.0  101.00  192  125.4  52.0  4.00  4.2905   80\n..   ...  ...   ...     ...  ...    ...   ...   ...     ...  ...\n437   60    2  28.2  112.00  185  113.8  42.0  4.00  4.9836   93\n438   47    2  24.9   75.00  225  166.0  42.0  5.00  4.4427  102\n439   60    2  24.9   99.67  162  106.6  43.0  3.77  4.1271   95\n440   36    1  30.0   95.00  201  125.2  42.0  4.79  5.1299   85\n441   36    1  19.6   71.00  250  133.2  97.0  3.00  4.5951   92\n\n[442 rows x 10 columns]",
            "text/html": "<div>\n<style scoped>\n    .dataframe tbody tr th:only-of-type {\n        vertical-align: middle;\n    }\n\n    .dataframe tbody tr th {\n        vertical-align: top;\n    }\n\n    .dataframe thead th {\n        text-align: right;\n    }\n</style>\n<table border=\"1\" class=\"dataframe\">\n  <thead>\n    <tr style=\"text-align: right;\">\n      <th></th>\n      <th>AGE</th>\n      <th>SEX</th>\n      <th>BMI</th>\n      <th>BP</th>\n      <th>S1</th>\n      <th>S2</th>\n      <th>S3</th>\n      <th>S4</th>\n      <th>S5</th>\n      <th>S6</th>\n    </tr>\n  </thead>\n  <tbody>\n    <tr>\n      <th>0</th>\n      <td>59</td>\n      <td>2</td>\n      <td>32.1</td>\n      <td>101.00</td>\n      <td>157</td>\n      <td>93.2</td>\n      <td>38.0</td>\n      <td>4.00</td>\n      <td>4.8598</td>\n      <td>87</td>\n    </tr>\n    <tr>\n      <th>1</th>\n      <td>48</td>\n      <td>1</td>\n      <td>21.6</td>\n      <td>87.00</td>\n      <td>183</td>\n      <td>103.2</td>\n      <td>70.0</td>\n      <td>3.00</td>\n      <td>3.8918</td>\n      <td>69</td>\n    </tr>\n    <tr>\n      <th>2</th>\n      <td>72</td>\n      <td>2</td>\n      <td>30.5</td>\n      <td>93.00</td>\n      <td>156</td>\n      <td>93.6</td>\n      <td>41.0</td>\n      <td>4.00</td>\n      <td>4.6728</td>\n      <td>85</td>\n    </tr>\n    <tr>\n      <th>3</th>\n      <td>24</td>\n      <td>1</td>\n      <td>25.3</td>\n      <td>84.00</td>\n      <td>198</td>\n      <td>131.4</td>\n      <td>40.0</td>\n      <td>5.00</td>\n      <td>4.8903</td>\n      <td>89</td>\n    </tr>\n    <tr>\n      <th>4</th>\n      <td>50</td>\n      <td>1</td>\n      <td>23.0</td>\n      <td>101.00</td>\n      <td>192</td>\n      <td>125.4</td>\n      <td>52.0</td>\n      <td>4.00</td>\n      <td>4.2905</td>\n      <td>80</td>\n    </tr>\n    <tr>\n      <th>...</th>\n      <td>...</td>\n      <td>...</td>\n      <td>...</td>\n      <td>...</td>\n      <td>...</td>\n      <td>...</td>\n      <td>...</td>\n      <td>...</td>\n      <td>...</td>\n      <td>...</td>\n    </tr>\n    <tr>\n      <th>437</th>\n      <td>60</td>\n      <td>2</td>\n      <td>28.2</td>\n      <td>112.00</td>\n      <td>185</td>\n      <td>113.8</td>\n      <td>42.0</td>\n      <td>4.00</td>\n      <td>4.9836</td>\n      <td>93</td>\n    </tr>\n    <tr>\n      <th>438</th>\n      <td>47</td>\n      <td>2</td>\n      <td>24.9</td>\n      <td>75.00</td>\n      <td>225</td>\n      <td>166.0</td>\n      <td>42.0</td>\n      <td>5.00</td>\n      <td>4.4427</td>\n      <td>102</td>\n    </tr>\n    <tr>\n      <th>439</th>\n      <td>60</td>\n      <td>2</td>\n      <td>24.9</td>\n      <td>99.67</td>\n      <td>162</td>\n      <td>106.6</td>\n      <td>43.0</td>\n      <td>3.77</td>\n      <td>4.1271</td>\n      <td>95</td>\n    </tr>\n    <tr>\n      <th>440</th>\n      <td>36</td>\n      <td>1</td>\n      <td>30.0</td>\n      <td>95.00</td>\n      <td>201</td>\n      <td>125.2</td>\n      <td>42.0</td>\n      <td>4.79</td>\n      <td>5.1299</td>\n      <td>85</td>\n    </tr>\n    <tr>\n      <th>441</th>\n      <td>36</td>\n      <td>1</td>\n      <td>19.6</td>\n      <td>71.00</td>\n      <td>250</td>\n      <td>133.2</td>\n      <td>97.0</td>\n      <td>3.00</td>\n      <td>4.5951</td>\n      <td>92</td>\n    </tr>\n  </tbody>\n</table>\n<p>442 rows × 10 columns</p>\n</div>"
          },
          "metadata": {}
        }
      ],
      "execution_count": 21,
      "metadata": {
        "jupyter": {
          "source_hidden": false,
          "outputs_hidden": false
        },
        "nteract": {
          "transient": {
            "deleting": false
          }
        },
        "gather": {
          "logged": 1664760650276
        }
      }
    },
    {
      "cell_type": "markdown",
      "source": [
        "**Construire et entraîner le modèle**\r\n",
        "\r\n",
        "Nous entrainons un modèle de régression ridge "
      ],
      "metadata": {
        "nteract": {
          "transient": {
            "deleting": false
          }
        }
      }
    },
    {
      "cell_type": "code",
      "source": [
        "import joblib\r\n",
        "from sklearn.linear_model import Ridge\r\n",
        "\r\n",
        "model = Ridge().fit(X_df,y_df)\r\n",
        "joblib.dump(model, 'sklearn_regression_model.pkl')"
      ],
      "outputs": [
        {
          "output_type": "execute_result",
          "execution_count": 3,
          "data": {
            "text/plain": "['sklearn_regression_model.pkl']"
          },
          "metadata": {}
        }
      ],
      "execution_count": 3,
      "metadata": {
        "jupyter": {
          "source_hidden": false,
          "outputs_hidden": false
        },
        "nteract": {
          "transient": {
            "deleting": false
          }
        },
        "gather": {
          "logged": 1664577511369
        }
      }
    },
    {
      "cell_type": "markdown",
      "source": [
        "###### Enregistrer le modèle\r\n",
        "\r\n",
        "En plus du contenu du fichier de modèle lui-même, votre modèle enregistré stockera des métadonnées. \r\n",
        "Les métadonnées sont utiles lorsque vous gérez et déployez des modèles dans votre espace de travail. \r\n"
      ],
      "metadata": {
        "nteract": {
          "transient": {
            "deleting": false
          }
        }
      }
    },
    {
      "cell_type": "code",
      "source": [
        "import sklearn\r\n",
        "\r\n",
        "from azureml.core import Workspace\r\n",
        "from azureml.core import Model\r\n",
        "from azureml.core.resource_configuration import ResourceConfiguration\r\n",
        "\r\n",
        "ws = Workspace.from_config()\r\n",
        "\r\n",
        "model = Model.register(workspace=ws,\r\n",
        "                       model_name='my-sklearn-model',                # Nom du modèle enregistré dans votre espace de travail\r\n",
        "                       model_path='./sklearn_regression_model.pkl',  # Fichier local à télécharger et à enregistrer comme modèle.\r\n",
        "                       model_framework=Model.Framework.SCIKITLEARN,  # Framework utilisé pour créer le modèle.\r\n",
        "                       model_framework_version=sklearn.__version__,  # Version de scikit-learn utilisée pour créer le modèle\r\n",
        "                       sample_input_dataset=X,\r\n",
        "                       sample_output_dataset=y,\r\n",
        "                       resource_configuration=ResourceConfiguration(cpu=2, memory_in_gb=4),\r\n",
        "                       description='Modèle de régression ridge pour prédire la progression du diabète.',\r\n",
        "                       tags={'area': 'diabetes', 'type': 'regression'})\r\n",
        "\r\n",
        "print('Name:', model.name)\r\n",
        "print('Version:', model.version)"
      ],
      "outputs": [
        {
          "output_type": "stream",
          "name": "stdout",
          "text": "Registering model my-sklearn-model\nName: my-sklearn-model\nVersion: 2\n"
        }
      ],
      "execution_count": 19,
      "metadata": {
        "jupyter": {
          "source_hidden": false,
          "outputs_hidden": false
        },
        "nteract": {
          "transient": {
            "deleting": false
          }
        },
        "gather": {
          "logged": 1664759661898
        }
      }
    },
    {
      "cell_type": "markdown",
      "source": [
        "###### Définir le script de scoring\r\n",
        "Lorsque vous déployez un modèle qui sera intégré dans **Power BI**, vous devez définir un script de scoring Python et un environnement personnalisé. Le script de scoring contient deux fonctions :\r\n",
        "\r\n",
        "- La fonction **init()** s'exécute au démarrage du service. Elle charge le modèle (qui est automatiquement téléchargé depuis le registre des modèles) et le désérialise\r\n",
        "- La fonction **run(data)** s'exécute lorsqu'un appel au service inclut des données d'entrée qui doivent être évaluées.\r\n",
        "  "
      ],
      "metadata": {
        "nteract": {
          "transient": {
            "deleting": false
          }
        }
      }
    },
    {
      "cell_type": "code",
      "source": [
        "%%writefile score.py\r\n",
        "\r\n",
        "import json\r\n",
        "import pickle\r\n",
        "import numpy as np\r\n",
        "import pandas as pd\r\n",
        "import os\r\n",
        "import joblib\r\n",
        "from azureml.core.model import Model\r\n",
        "\r\n",
        "from inference_schema.schema_decorators import input_schema, output_schema\r\n",
        "from inference_schema.parameter_types.numpy_parameter_type import NumpyParameterType\r\n",
        "from inference_schema.parameter_types.pandas_parameter_type import PandasParameterType\r\n",
        "\r\n",
        "\r\n",
        "def init():\r\n",
        "    global model\r\n",
        "    # Remplacer le nom du fichier si nécessaire.\r\n",
        "    path = os.getenv('AZUREML_MODEL_DIR') \r\n",
        "    model_path = os.path.join(path, 'sklearn_regression_model.pkl')\r\n",
        "    # Désérialise le fichier modèle en un modèle sklearn.\r\n",
        "    model = joblib.load(model_path)\r\n",
        "\r\n",
        "\r\n",
        "input_sample = pd.DataFrame(data=[{\r\n",
        "    \"AGE\": 5,\r\n",
        "    \"SEX\": 2,\r\n",
        "    \"BMI\": 3.1,\r\n",
        "    \"BP\": 3.1,\r\n",
        "    \"S1\": 3.1,\r\n",
        "    \"S2\": 3.1,\r\n",
        "    \"S3\": 3.1,\r\n",
        "    \"S4\": 3.1,\r\n",
        "    \"S5\": 3.1,\r\n",
        "    \"S6\": 3.1\r\n",
        "}])\r\n",
        "\r\n",
        "# Il s'agit d'un échantillon de type entier. Vous pouvez utiliser le type de données qui reflète le résultat attendu.\r\n",
        "output_sample = np.array([0])\r\n",
        "\r\n",
        "# Pour indiquer que nous supportons une longueur variable d'entrée de données,\r\n",
        "# définir enforce_shape=False\r\n",
        "@input_schema('data', PandasParameterType(input_sample))\r\n",
        "@output_schema(NumpyParameterType(output_sample))\r\n",
        "def run(data):\r\n",
        "    try:\r\n",
        "        print(\"input_data....\")\r\n",
        "        print(data.columns)\r\n",
        "        print(type(data))\r\n",
        "        result = model.predict(data)\r\n",
        "        print(\"result.....\")\r\n",
        "        print(result)\r\n",
        "    # Vous pouvez renvoyer n'importe quel type de données, tant qu'elles peuvent être sérialisées par JSON.\r\n",
        "        return result.tolist()\r\n",
        "    except Exception as e:\r\n",
        "        error = str(e)\r\n",
        "        return error"
      ],
      "outputs": [
        {
          "output_type": "stream",
          "name": "stdout",
          "text": "Writing score.py\n"
        }
      ],
      "execution_count": 5,
      "metadata": {
        "jupyter": {
          "source_hidden": false,
          "outputs_hidden": false
        },
        "nteract": {
          "transient": {
            "deleting": false
          }
        }
      }
    },
    {
      "cell_type": "markdown",
      "source": [
        "###### Définir l'environnement personnalisé\r\n",
        "Ensuite, définissez l'environnement de notation du modèle. \r\n",
        "Dans l'environnement, définissez les packages Python, tels que pandas et scikit-learn, dont le script de notation (**score.py**) a besoin."
      ],
      "metadata": {
        "nteract": {
          "transient": {
            "deleting": false
          }
        }
      }
    },
    {
      "cell_type": "code",
      "source": [
        "from azureml.core.model import InferenceConfig\r\n",
        "from azureml.core import Environment\r\n",
        "from azureml.core.conda_dependencies import CondaDependencies\r\n",
        "\r\n",
        "environment = Environment('my-sklearn-environment')\r\n",
        "environment.python.conda_dependencies = CondaDependencies.create(pip_packages=[\r\n",
        "    'azureml-defaults',\r\n",
        "    'inference-schema[numpy-support]',\r\n",
        "    'joblib',\r\n",
        "    'numpy',\r\n",
        "    'pandas',\r\n",
        "    'scikit-learn=={}'.format(sklearn.__version__)\r\n",
        "])\r\n",
        "\r\n",
        "inference_config = InferenceConfig(entry_script='./score.py',environment=environment)"
      ],
      "outputs": [],
      "execution_count": 6,
      "metadata": {
        "jupyter": {
          "source_hidden": false,
          "outputs_hidden": false
        },
        "nteract": {
          "transient": {
            "deleting": false
          }
        },
        "gather": {
          "logged": 1664577718782
        }
      }
    },
    {
      "cell_type": "markdown",
      "source": [
        "###### Déployer le modèle\r\n"
      ],
      "metadata": {
        "nteract": {
          "transient": {
            "deleting": false
          }
        }
      }
    },
    {
      "cell_type": "code",
      "source": [
        "service_name = 'my-diabetes-model'\r\n",
        "\r\n",
        "service = Model.deploy(ws, service_name, [model], inference_config, overwrite=True)\r\n",
        "service.wait_for_deployment(show_output=True)"
      ],
      "outputs": [
        {
          "output_type": "stream",
          "name": "stdout",
          "text": "Tips: You can try get_logs(): https://aka.ms/debugimage#dockerlog or local deployment: https://aka.ms/debugimage#debug-locally to debug if deployment takes longer than 10 minutes.\nRunning\n2022-09-30 22:42:20+00:00 Creating Container Registry if not exists..\n2022-09-30 22:52:21+00:00 Registering the environment..\n2022-09-30 22:52:22+00:00 Building image..\n2022-09-30 23:02:37+00:00 Generating deployment configuration.\n2022-09-30 23:02:38+00:00 Submitting deployment to compute..\n2022-09-30 23:02:43+00:00 Checking the status of deployment my-diabetes-model..\n2022-09-30 23:04:43+00:00 Checking the status of inference endpoint my-diabetes-model.\nSucceeded\nACI service creation operation finished, operation \"Succeeded\"\n"
        }
      ],
      "execution_count": 7,
      "metadata": {
        "jupyter": {
          "source_hidden": false,
          "outputs_hidden": false
        },
        "nteract": {
          "transient": {
            "deleting": false
          }
        },
        "gather": {
          "logged": 1664579313400
        }
      }
    },
    {
      "cell_type": "code",
      "source": [
        "import json\r\n",
        "\r\n",
        "input_payload = json.dumps({\r\n",
        "    'data': X_df[0:2].values.tolist()\r\n",
        "})\r\n",
        "\r\n",
        "output = service.run(input_payload)\r\n",
        "\r\n",
        "print(output)"
      ],
      "outputs": [
        {
          "output_type": "stream",
          "name": "stdout",
          "text": "[[205.59094435613133], [68.84146418576978]]\n"
        }
      ],
      "execution_count": 8,
      "metadata": {
        "jupyter": {
          "source_hidden": false,
          "outputs_hidden": false
        },
        "nteract": {
          "transient": {
            "deleting": false
          }
        },
        "gather": {
          "logged": 1664579638738
        }
      }
    }
  ],
  "metadata": {
    "kernelspec": {
      "name": "python38-azureml",
      "language": "python",
      "display_name": "Python 3.8 - AzureML"
    },
    "language_info": {
      "name": "python",
      "version": "3.8.5",
      "mimetype": "text/x-python",
      "codemirror_mode": {
        "name": "ipython",
        "version": 3
      },
      "pygments_lexer": "ipython3",
      "nbconvert_exporter": "python",
      "file_extension": ".py"
    },
    "kernel_info": {
      "name": "python38-azureml"
    },
    "microsoft": {
      "host": {
        "AzureML": {
          "notebookHasBeenCompleted": true
        }
      }
    },
    "nteract": {
      "version": "nteract-front-end@1.0.0"
    }
  },
  "nbformat": 4,
  "nbformat_minor": 2
}